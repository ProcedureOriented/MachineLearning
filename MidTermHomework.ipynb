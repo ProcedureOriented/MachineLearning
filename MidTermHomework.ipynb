{
 "cells": [
  {
   "cell_type": "code",
   "execution_count": 2,
   "metadata": {},
   "outputs": [],
   "source": [
    "import os, time, datetime, sys\n",
    "import numpy as np\n",
    "import pandas as pd\n",
    "from collections import Counter\n",
    "from functools import reduce\n",
    "from dateutil.relativedelta import relativedelta\n",
    "from sklearn.metrics import roc_curve, auc, f1_score, mean_squared_error\n",
    "from sklearn.model_selection import train_test_split, KFold\n",
    "from sklearn.linear_model import LogisticRegression, LinearRegression\n",
    "from sklearn.ensemble import RandomForestClassifier\n",
    "from sklearn.preprocessing import MultiLabelBinarizer, OneHotEncoder\n",
    "import matplotlib.pyplot as plt\n",
    "import matplotlib\n",
    "import random\n",
    "from IPython.display import display"
   ]
  },
  {
   "cell_type": "markdown",
   "metadata": {},
   "source": [
    "# 1.1 读取数据并预览"
   ]
  },
  {
   "cell_type": "code",
   "execution_count": 3,
   "metadata": {},
   "outputs": [],
   "source": [
    "# Read data\n",
    "userinfo_train = pd.read_csv('./userinfo.csv')\n",
    "bank_train = pd.read_csv('./bank.csv')\n",
    "bill_train = pd.read_csv('./bill.csv')\n",
    "overdue_train = pd.read_csv('./overdue.csv')\n",
    "\n",
    "df_dict = {\"用户信息\": userinfo_train,\n",
    "\"银行流水\": bank_train,\n",
    "\"账单\": bill_train,\n",
    "\"违约记录\": overdue_train}"
   ]
  },
  {
   "cell_type": "code",
   "execution_count": 4,
   "metadata": {},
   "outputs": [
    {
     "name": "stdout",
     "output_type": "stream",
     "text": [
      "用户信息: 10000 行\n"
     ]
    },
    {
     "data": {
      "text/html": [
       "<div>\n",
       "<style scoped>\n",
       "    .dataframe tbody tr th:only-of-type {\n",
       "        vertical-align: middle;\n",
       "    }\n",
       "\n",
       "    .dataframe tbody tr th {\n",
       "        vertical-align: top;\n",
       "    }\n",
       "\n",
       "    .dataframe thead th {\n",
       "        text-align: right;\n",
       "    }\n",
       "</style>\n",
       "<table border=\"1\" class=\"dataframe\">\n",
       "  <thead>\n",
       "    <tr style=\"text-align: right;\">\n",
       "      <th></th>\n",
       "      <th>new_user_id</th>\n",
       "      <th>性别</th>\n",
       "      <th>职业</th>\n",
       "      <th>教育程度</th>\n",
       "      <th>婚姻状态</th>\n",
       "      <th>户口类型</th>\n",
       "    </tr>\n",
       "  </thead>\n",
       "  <tbody>\n",
       "    <tr>\n",
       "      <th>0</th>\n",
       "      <td>7259fe272934e0dc348092c37544a445</td>\n",
       "      <td>女</td>\n",
       "      <td>公职</td>\n",
       "      <td>本科及以上</td>\n",
       "      <td>未婚</td>\n",
       "      <td>集体户口</td>\n",
       "    </tr>\n",
       "    <tr>\n",
       "      <th>1</th>\n",
       "      <td>0c87f6b1f7e0350a35841ba34df9d26a</td>\n",
       "      <td>男</td>\n",
       "      <td>公职</td>\n",
       "      <td>本科及以上</td>\n",
       "      <td>离异</td>\n",
       "      <td>集体户口</td>\n",
       "    </tr>\n",
       "    <tr>\n",
       "      <th>2</th>\n",
       "      <td>74c53a62f15cc039864aefc41170f81b</td>\n",
       "      <td>男</td>\n",
       "      <td>公职</td>\n",
       "      <td>大专</td>\n",
       "      <td>离异</td>\n",
       "      <td>家庭户口</td>\n",
       "    </tr>\n",
       "    <tr>\n",
       "      <th>3</th>\n",
       "      <td>211f56f356fa6ecc6334bb73e52c7b16</td>\n",
       "      <td>男</td>\n",
       "      <td>企业</td>\n",
       "      <td>高中</td>\n",
       "      <td>离异</td>\n",
       "      <td>农业户口</td>\n",
       "    </tr>\n",
       "    <tr>\n",
       "      <th>4</th>\n",
       "      <td>07b0d9ac7924424894141b2fecfa0ee0</td>\n",
       "      <td>男</td>\n",
       "      <td>公职</td>\n",
       "      <td>本科及以上</td>\n",
       "      <td>已婚</td>\n",
       "      <td>集体户口</td>\n",
       "    </tr>\n",
       "  </tbody>\n",
       "</table>\n",
       "</div>"
      ],
      "text/plain": [
       "                        new_user_id 性别  职业   教育程度 婚姻状态  户口类型\n",
       "0  7259fe272934e0dc348092c37544a445  女  公职  本科及以上   未婚  集体户口\n",
       "1  0c87f6b1f7e0350a35841ba34df9d26a  男  公职  本科及以上   离异  集体户口\n",
       "2  74c53a62f15cc039864aefc41170f81b  男  公职     大专   离异  家庭户口\n",
       "3  211f56f356fa6ecc6334bb73e52c7b16  男  企业     高中   离异  农业户口\n",
       "4  07b0d9ac7924424894141b2fecfa0ee0  男  公职  本科及以上   已婚  集体户口"
      ]
     },
     "metadata": {},
     "output_type": "display_data"
    },
    {
     "name": "stdout",
     "output_type": "stream",
     "text": [
      "银行流水: 1068424 行\n"
     ]
    },
    {
     "data": {
      "text/html": [
       "<div>\n",
       "<style scoped>\n",
       "    .dataframe tbody tr th:only-of-type {\n",
       "        vertical-align: middle;\n",
       "    }\n",
       "\n",
       "    .dataframe tbody tr th {\n",
       "        vertical-align: top;\n",
       "    }\n",
       "\n",
       "    .dataframe thead th {\n",
       "        text-align: right;\n",
       "    }\n",
       "</style>\n",
       "<table border=\"1\" class=\"dataframe\">\n",
       "  <thead>\n",
       "    <tr style=\"text-align: right;\">\n",
       "      <th></th>\n",
       "      <th>new_user_id</th>\n",
       "      <th>交易时间戳</th>\n",
       "      <th>交易类型</th>\n",
       "      <th>交易金额</th>\n",
       "      <th>工资收入标记</th>\n",
       "      <th>交易时间</th>\n",
       "      <th>交易年</th>\n",
       "      <th>交易月</th>\n",
       "      <th>交易日</th>\n",
       "      <th>交易时</th>\n",
       "      <th>交易分</th>\n",
       "      <th>交易秒</th>\n",
       "    </tr>\n",
       "  </thead>\n",
       "  <tbody>\n",
       "    <tr>\n",
       "      <th>0</th>\n",
       "      <td>65b01fba105ee82613babff7c88929c5</td>\n",
       "      <td>58848407247</td>\n",
       "      <td>1</td>\n",
       "      <td>43.757548</td>\n",
       "      <td>0</td>\n",
       "      <td>2156-06-25 21:58:44</td>\n",
       "      <td>2156</td>\n",
       "      <td>6</td>\n",
       "      <td>25</td>\n",
       "      <td>21</td>\n",
       "      <td>58</td>\n",
       "      <td>44</td>\n",
       "    </tr>\n",
       "    <tr>\n",
       "      <th>1</th>\n",
       "      <td>65b01fba105ee82613babff7c88929c5</td>\n",
       "      <td>58849365297</td>\n",
       "      <td>1</td>\n",
       "      <td>42.143743</td>\n",
       "      <td>0</td>\n",
       "      <td>2156-06-27 00:35:29</td>\n",
       "      <td>2156</td>\n",
       "      <td>6</td>\n",
       "      <td>27</td>\n",
       "      <td>0</td>\n",
       "      <td>35</td>\n",
       "      <td>29</td>\n",
       "    </tr>\n",
       "    <tr>\n",
       "      <th>2</th>\n",
       "      <td>65b01fba105ee82613babff7c88929c5</td>\n",
       "      <td>58850118237</td>\n",
       "      <td>1</td>\n",
       "      <td>40.189051</td>\n",
       "      <td>0</td>\n",
       "      <td>2156-06-27 21:30:23</td>\n",
       "      <td>2156</td>\n",
       "      <td>6</td>\n",
       "      <td>27</td>\n",
       "      <td>21</td>\n",
       "      <td>30</td>\n",
       "      <td>23</td>\n",
       "    </tr>\n",
       "    <tr>\n",
       "      <th>3</th>\n",
       "      <td>65b01fba105ee82613babff7c88929c5</td>\n",
       "      <td>58850118447</td>\n",
       "      <td>1</td>\n",
       "      <td>40.189051</td>\n",
       "      <td>0</td>\n",
       "      <td>2156-06-27 21:30:44</td>\n",
       "      <td>2156</td>\n",
       "      <td>6</td>\n",
       "      <td>27</td>\n",
       "      <td>21</td>\n",
       "      <td>30</td>\n",
       "      <td>44</td>\n",
       "    </tr>\n",
       "    <tr>\n",
       "      <th>4</th>\n",
       "      <td>65b01fba105ee82613babff7c88929c5</td>\n",
       "      <td>58850244487</td>\n",
       "      <td>1</td>\n",
       "      <td>40.189051</td>\n",
       "      <td>0</td>\n",
       "      <td>2156-06-28 01:00:48</td>\n",
       "      <td>2156</td>\n",
       "      <td>6</td>\n",
       "      <td>28</td>\n",
       "      <td>1</td>\n",
       "      <td>0</td>\n",
       "      <td>48</td>\n",
       "    </tr>\n",
       "  </tbody>\n",
       "</table>\n",
       "</div>"
      ],
      "text/plain": [
       "                        new_user_id        交易时间戳  交易类型       交易金额  工资收入标记  \\\n",
       "0  65b01fba105ee82613babff7c88929c5  58848407247     1  43.757548       0   \n",
       "1  65b01fba105ee82613babff7c88929c5  58849365297     1  42.143743       0   \n",
       "2  65b01fba105ee82613babff7c88929c5  58850118237     1  40.189051       0   \n",
       "3  65b01fba105ee82613babff7c88929c5  58850118447     1  40.189051       0   \n",
       "4  65b01fba105ee82613babff7c88929c5  58850244487     1  40.189051       0   \n",
       "\n",
       "                  交易时间   交易年  交易月  交易日  交易时  交易分  交易秒  \n",
       "0  2156-06-25 21:58:44  2156    6   25   21   58   44  \n",
       "1  2156-06-27 00:35:29  2156    6   27    0   35   29  \n",
       "2  2156-06-27 21:30:23  2156    6   27   21   30   23  \n",
       "3  2156-06-27 21:30:44  2156    6   27   21   30   44  \n",
       "4  2156-06-28 01:00:48  2156    6   28    1    0   48  "
      ]
     },
     "metadata": {},
     "output_type": "display_data"
    },
    {
     "name": "stdout",
     "output_type": "stream",
     "text": [
      "账单: 429441 行\n"
     ]
    },
    {
     "data": {
      "text/html": [
       "<div>\n",
       "<style scoped>\n",
       "    .dataframe tbody tr th:only-of-type {\n",
       "        vertical-align: middle;\n",
       "    }\n",
       "\n",
       "    .dataframe tbody tr th {\n",
       "        vertical-align: top;\n",
       "    }\n",
       "\n",
       "    .dataframe thead th {\n",
       "        text-align: right;\n",
       "    }\n",
       "</style>\n",
       "<table border=\"1\" class=\"dataframe\">\n",
       "  <thead>\n",
       "    <tr style=\"text-align: right;\">\n",
       "      <th></th>\n",
       "      <th>new_user_id</th>\n",
       "      <th>账单时间戳</th>\n",
       "      <th>银行id</th>\n",
       "      <th>上期账单金额</th>\n",
       "      <th>上期还款金额</th>\n",
       "      <th>信用卡额度</th>\n",
       "      <th>本期账单余额</th>\n",
       "      <th>本期账单最低还款额</th>\n",
       "      <th>消费笔数</th>\n",
       "      <th>本期账单金额</th>\n",
       "      <th>...</th>\n",
       "      <th>可用金额</th>\n",
       "      <th>预借现金额度</th>\n",
       "      <th>还款状态</th>\n",
       "      <th>账单时间</th>\n",
       "      <th>账单年</th>\n",
       "      <th>账单月</th>\n",
       "      <th>账单日</th>\n",
       "      <th>账单时</th>\n",
       "      <th>账单分</th>\n",
       "      <th>账单秒</th>\n",
       "    </tr>\n",
       "  </thead>\n",
       "  <tbody>\n",
       "    <tr>\n",
       "      <th>0</th>\n",
       "      <td>eddcaa8984f8db5199ec28323efb18a4</td>\n",
       "      <td>59067443637</td>\n",
       "      <td>6</td>\n",
       "      <td>50.622246</td>\n",
       "      <td>50.657612</td>\n",
       "      <td>52.596975</td>\n",
       "      <td>50.897707</td>\n",
       "      <td>49.846899</td>\n",
       "      <td>1</td>\n",
       "      <td>26.457513</td>\n",
       "      <td>...</td>\n",
       "      <td>26.457513</td>\n",
       "      <td>51.933872</td>\n",
       "      <td>0</td>\n",
       "      <td>2157-03-06 10:19:23</td>\n",
       "      <td>2157</td>\n",
       "      <td>3</td>\n",
       "      <td>6</td>\n",
       "      <td>10</td>\n",
       "      <td>19</td>\n",
       "      <td>23</td>\n",
       "    </tr>\n",
       "    <tr>\n",
       "      <th>1</th>\n",
       "      <td>eddcaa8984f8db5199ec28323efb18a4</td>\n",
       "      <td>59067444017</td>\n",
       "      <td>6</td>\n",
       "      <td>50.897707</td>\n",
       "      <td>50.901821</td>\n",
       "      <td>52.596975</td>\n",
       "      <td>51.101179</td>\n",
       "      <td>49.911428</td>\n",
       "      <td>1</td>\n",
       "      <td>26.457513</td>\n",
       "      <td>...</td>\n",
       "      <td>26.457513</td>\n",
       "      <td>51.933872</td>\n",
       "      <td>0</td>\n",
       "      <td>2157-03-06 10:20:01</td>\n",
       "      <td>2157</td>\n",
       "      <td>3</td>\n",
       "      <td>6</td>\n",
       "      <td>10</td>\n",
       "      <td>20</td>\n",
       "      <td>1</td>\n",
       "    </tr>\n",
       "    <tr>\n",
       "      <th>2</th>\n",
       "      <td>eddcaa8984f8db5199ec28323efb18a4</td>\n",
       "      <td>59067444277</td>\n",
       "      <td>6</td>\n",
       "      <td>51.101179</td>\n",
       "      <td>51.137354</td>\n",
       "      <td>52.596975</td>\n",
       "      <td>51.283715</td>\n",
       "      <td>49.977605</td>\n",
       "      <td>1</td>\n",
       "      <td>26.457513</td>\n",
       "      <td>...</td>\n",
       "      <td>26.457513</td>\n",
       "      <td>51.933872</td>\n",
       "      <td>0</td>\n",
       "      <td>2157-03-06 10:20:27</td>\n",
       "      <td>2157</td>\n",
       "      <td>3</td>\n",
       "      <td>6</td>\n",
       "      <td>10</td>\n",
       "      <td>20</td>\n",
       "      <td>27</td>\n",
       "    </tr>\n",
       "    <tr>\n",
       "      <th>3</th>\n",
       "      <td>eddcaa8984f8db5199ec28323efb18a4</td>\n",
       "      <td>59067445157</td>\n",
       "      <td>6</td>\n",
       "      <td>51.283715</td>\n",
       "      <td>51.283799</td>\n",
       "      <td>52.915867</td>\n",
       "      <td>52.252502</td>\n",
       "      <td>50.474921</td>\n",
       "      <td>1</td>\n",
       "      <td>26.457513</td>\n",
       "      <td>...</td>\n",
       "      <td>26.457513</td>\n",
       "      <td>52.256811</td>\n",
       "      <td>0</td>\n",
       "      <td>2157-03-06 10:21:55</td>\n",
       "      <td>2157</td>\n",
       "      <td>3</td>\n",
       "      <td>6</td>\n",
       "      <td>10</td>\n",
       "      <td>21</td>\n",
       "      <td>55</td>\n",
       "    </tr>\n",
       "    <tr>\n",
       "      <th>4</th>\n",
       "      <td>eddcaa8984f8db5199ec28323efb18a4</td>\n",
       "      <td>59067445627</td>\n",
       "      <td>6</td>\n",
       "      <td>52.252502</td>\n",
       "      <td>52.256812</td>\n",
       "      <td>52.915867</td>\n",
       "      <td>52.304048</td>\n",
       "      <td>50.508400</td>\n",
       "      <td>1</td>\n",
       "      <td>26.457513</td>\n",
       "      <td>...</td>\n",
       "      <td>26.457513</td>\n",
       "      <td>52.256811</td>\n",
       "      <td>0</td>\n",
       "      <td>2157-03-06 10:22:42</td>\n",
       "      <td>2157</td>\n",
       "      <td>3</td>\n",
       "      <td>6</td>\n",
       "      <td>10</td>\n",
       "      <td>22</td>\n",
       "      <td>42</td>\n",
       "    </tr>\n",
       "  </tbody>\n",
       "</table>\n",
       "<p>5 rows × 22 columns</p>\n",
       "</div>"
      ],
      "text/plain": [
       "                        new_user_id        账单时间戳  银行id     上期账单金额     上期还款金额  \\\n",
       "0  eddcaa8984f8db5199ec28323efb18a4  59067443637     6  50.622246  50.657612   \n",
       "1  eddcaa8984f8db5199ec28323efb18a4  59067444017     6  50.897707  50.901821   \n",
       "2  eddcaa8984f8db5199ec28323efb18a4  59067444277     6  51.101179  51.137354   \n",
       "3  eddcaa8984f8db5199ec28323efb18a4  59067445157     6  51.283715  51.283799   \n",
       "4  eddcaa8984f8db5199ec28323efb18a4  59067445627     6  52.252502  52.256812   \n",
       "\n",
       "       信用卡额度     本期账单余额  本期账单最低还款额  消费笔数     本期账单金额  ...       可用金额  \\\n",
       "0  52.596975  50.897707  49.846899     1  26.457513  ...  26.457513   \n",
       "1  52.596975  51.101179  49.911428     1  26.457513  ...  26.457513   \n",
       "2  52.596975  51.283715  49.977605     1  26.457513  ...  26.457513   \n",
       "3  52.915867  52.252502  50.474921     1  26.457513  ...  26.457513   \n",
       "4  52.915867  52.304048  50.508400     1  26.457513  ...  26.457513   \n",
       "\n",
       "      预借现金额度  还款状态                 账单时间   账单年 账单月  账单日  账单时  账单分  账单秒  \n",
       "0  51.933872     0  2157-03-06 10:19:23  2157   3    6   10   19   23  \n",
       "1  51.933872     0  2157-03-06 10:20:01  2157   3    6   10   20    1  \n",
       "2  51.933872     0  2157-03-06 10:20:27  2157   3    6   10   20   27  \n",
       "3  52.256811     0  2157-03-06 10:21:55  2157   3    6   10   21   55  \n",
       "4  52.256811     0  2157-03-06 10:22:42  2157   3    6   10   22   42  \n",
       "\n",
       "[5 rows x 22 columns]"
      ]
     },
     "metadata": {},
     "output_type": "display_data"
    },
    {
     "name": "stdout",
     "output_type": "stream",
     "text": [
      "违约记录: 10000 行\n"
     ]
    },
    {
     "data": {
      "text/html": [
       "<div>\n",
       "<style scoped>\n",
       "    .dataframe tbody tr th:only-of-type {\n",
       "        vertical-align: middle;\n",
       "    }\n",
       "\n",
       "    .dataframe tbody tr th {\n",
       "        vertical-align: top;\n",
       "    }\n",
       "\n",
       "    .dataframe thead th {\n",
       "        text-align: right;\n",
       "    }\n",
       "</style>\n",
       "<table border=\"1\" class=\"dataframe\">\n",
       "  <thead>\n",
       "    <tr style=\"text-align: right;\">\n",
       "      <th></th>\n",
       "      <th>new_user_id</th>\n",
       "      <th>标签</th>\n",
       "      <th>分数</th>\n",
       "    </tr>\n",
       "  </thead>\n",
       "  <tbody>\n",
       "    <tr>\n",
       "      <th>0</th>\n",
       "      <td>eddcaa8984f8db5199ec28323efb18a4</td>\n",
       "      <td>0</td>\n",
       "      <td>80.619639</td>\n",
       "    </tr>\n",
       "    <tr>\n",
       "      <th>1</th>\n",
       "      <td>65b01fba105ee82613babff7c88929c5</td>\n",
       "      <td>1</td>\n",
       "      <td>53.052357</td>\n",
       "    </tr>\n",
       "    <tr>\n",
       "      <th>2</th>\n",
       "      <td>968083a2d1a7e6b5b85a66b0bc412830</td>\n",
       "      <td>1</td>\n",
       "      <td>46.796518</td>\n",
       "    </tr>\n",
       "    <tr>\n",
       "      <th>3</th>\n",
       "      <td>18aeed58fd39a58cc1430a3a417ed7a9</td>\n",
       "      <td>1</td>\n",
       "      <td>82.354501</td>\n",
       "    </tr>\n",
       "    <tr>\n",
       "      <th>4</th>\n",
       "      <td>bae4896cea4a34616ae3babca11439ae</td>\n",
       "      <td>1</td>\n",
       "      <td>83.758928</td>\n",
       "    </tr>\n",
       "  </tbody>\n",
       "</table>\n",
       "</div>"
      ],
      "text/plain": [
       "                        new_user_id  标签         分数\n",
       "0  eddcaa8984f8db5199ec28323efb18a4   0  80.619639\n",
       "1  65b01fba105ee82613babff7c88929c5   1  53.052357\n",
       "2  968083a2d1a7e6b5b85a66b0bc412830   1  46.796518\n",
       "3  18aeed58fd39a58cc1430a3a417ed7a9   1  82.354501\n",
       "4  bae4896cea4a34616ae3babca11439ae   1  83.758928"
      ]
     },
     "metadata": {},
     "output_type": "display_data"
    }
   ],
   "source": [
    "# Show info\n",
    "for name in df_dict:\n",
    "    print(name+\":\", len(df_dict[name]), \"行\")\n",
    "    display(df_dict[name].head())"
   ]
  },
  {
   "cell_type": "markdown",
   "metadata": {},
   "source": [
    "# 1.2 列出空值并删除"
   ]
  },
  {
   "cell_type": "code",
   "execution_count": 5,
   "metadata": {},
   "outputs": [
    {
     "name": "stdout",
     "output_type": "stream",
     "text": [
      "用户信息:True\n",
      "银行流水:False\n",
      "账单:False\n",
      "违约记录:False\n"
     ]
    }
   ],
   "source": [
    "# show whether a table contains null value\n",
    "for name in df_dict:\n",
    "    print(\"%s:%s\" %(name, np.any(df_dict[name].isnull())))"
   ]
  },
  {
   "cell_type": "code",
   "execution_count": 6,
   "metadata": {},
   "outputs": [
    {
     "name": "stdout",
     "output_type": "stream",
     "text": [
      "用户信息存在空值\n",
      "new_user_id    0\n",
      "性别             0\n",
      "职业             2\n",
      "教育程度           0\n",
      "婚姻状态           1\n",
      "户口类型           0\n",
      "dtype: int64\n"
     ]
    },
    {
     "data": {
      "text/html": [
       "<div>\n",
       "<style scoped>\n",
       "    .dataframe tbody tr th:only-of-type {\n",
       "        vertical-align: middle;\n",
       "    }\n",
       "\n",
       "    .dataframe tbody tr th {\n",
       "        vertical-align: top;\n",
       "    }\n",
       "\n",
       "    .dataframe thead th {\n",
       "        text-align: right;\n",
       "    }\n",
       "</style>\n",
       "<table border=\"1\" class=\"dataframe\">\n",
       "  <thead>\n",
       "    <tr style=\"text-align: right;\">\n",
       "      <th></th>\n",
       "      <th>new_user_id</th>\n",
       "      <th>性别</th>\n",
       "      <th>职业</th>\n",
       "      <th>教育程度</th>\n",
       "      <th>婚姻状态</th>\n",
       "      <th>户口类型</th>\n",
       "    </tr>\n",
       "  </thead>\n",
       "  <tbody>\n",
       "    <tr>\n",
       "      <th>31</th>\n",
       "      <td>3be79a55ccf09062cdff1b9c684179f9</td>\n",
       "      <td>男</td>\n",
       "      <td>NaN</td>\n",
       "      <td>本科及以上</td>\n",
       "      <td>离异</td>\n",
       "      <td>农业户口</td>\n",
       "    </tr>\n",
       "    <tr>\n",
       "      <th>135</th>\n",
       "      <td>b074add6f740af33df4230f28d37a333</td>\n",
       "      <td>男</td>\n",
       "      <td>NaN</td>\n",
       "      <td>大专</td>\n",
       "      <td>离异</td>\n",
       "      <td>家庭户口</td>\n",
       "    </tr>\n",
       "    <tr>\n",
       "      <th>5345</th>\n",
       "      <td>9f2e0eb314d821f8d075fbc9e64ce4f5</td>\n",
       "      <td>男</td>\n",
       "      <td>公职</td>\n",
       "      <td>高中</td>\n",
       "      <td>NaN</td>\n",
       "      <td>农业户口</td>\n",
       "    </tr>\n",
       "  </tbody>\n",
       "</table>\n",
       "</div>"
      ],
      "text/plain": [
       "                           new_user_id 性别   职业   教育程度 婚姻状态  户口类型\n",
       "31    3be79a55ccf09062cdff1b9c684179f9  男  NaN  本科及以上   离异  农业户口\n",
       "135   b074add6f740af33df4230f28d37a333  男  NaN     大专   离异  家庭户口\n",
       "5345  9f2e0eb314d821f8d075fbc9e64ce4f5  男   公职     高中  NaN  农业户口"
      ]
     },
     "metadata": {},
     "output_type": "display_data"
    },
    {
     "name": "stdout",
     "output_type": "stream",
     "text": [
      "存在 3 行空值\n",
      "用户信息已更新\n"
     ]
    }
   ],
   "source": [
    "# Show specific info of null value table \n",
    "for name in df_dict:\n",
    "    df = df_dict[name]\n",
    "    if np.any(df.isnull()):\n",
    "        print(\"%s存在空值\" %name)\n",
    "        print(df.isnull().sum(axis=0))\n",
    "        display(df[df.isnull().any(axis=1)])\n",
    "        print(\"存在 %d 行空值\" %len(df[df.isnull().any(axis=1)]))\n",
    "\n",
    "        # Drop null record\n",
    "        df_dict[name] = df[~df.isnull().any(axis=1)]\n",
    "        print(\"%s已更新\" %name)"
   ]
  },
  {
   "cell_type": "markdown",
   "metadata": {},
   "source": [
    "# 1.3 编码\n",
    "分类编码和独热编码"
   ]
  },
  {
   "cell_type": "code",
   "execution_count": 7,
   "metadata": {},
   "outputs": [
    {
     "name": "stdout",
     "output_type": "stream",
     "text": [
      "性别 ['女', '男', '未知']\n",
      "编码：{'女': 0, '男': 1, '未知': 2}\n",
      "\n",
      "职业 ['公职', '企业', '事业单位', '无业', '学生']\n",
      "编码：{'公职': 0, '企业': 1, '事业单位': 2, '无业': 3, '学生': 4}\n",
      "\n",
      "教育程度 ['本科及以上', '大专', '高中', '初中及以下', '未知']\n",
      "编码：{'本科及以上': 0, '大专': 1, '高中': 2, '初中及以下': 3, '未知': 4}\n",
      "\n",
      "婚姻状态 ['未婚', '离异', '已婚', '丧偶', '其他情况', '未知']\n",
      "编码：{'未婚': 0, '离异': 1, '已婚': 2, '丧偶': 3, '其他情况': 4, '未知': 5}\n",
      "\n",
      "户口类型 ['集体户口', '家庭户口', '农业户口', '其他户口', '未知']\n",
      "编码：{'集体户口': 0, '家庭户口': 1, '农业户口': 2, '其他户口': 3, '未知': 4}\n",
      "\n"
     ]
    }
   ],
   "source": [
    "# Generate dictionary of code for a certain table.\n",
    "def genCode(pdtable, colList):\n",
    "    # For safety, you must commit a list sured by yourself.\n",
    "\n",
    "    code_dict = {}\n",
    "\n",
    "    for col in colList:\n",
    "        # Show unique value of a column\n",
    "        colValue = list(pdtable[col].unique())\n",
    "        print(col, colValue)\n",
    "\n",
    "        # Enode of column\n",
    "        dict = {}\n",
    "        for index in range(len(colValue)):\n",
    "            dict[colValue[index]] = index\n",
    "\n",
    "        # Show result\n",
    "        print(\"编码：%s\\n\" %dict)\n",
    "        \n",
    "        # Store data\n",
    "        code_dict[col] = dict\n",
    "    return code_dict\n",
    "\n",
    "col_list=list(df_dict['用户信息'])\n",
    "col_list.remove('new_user_id')\n",
    "code_dict = genCode(df_dict['用户信息'], col_list)\n",
    "\n",
    "df_dict['用户信息'] = df_dict['用户信息'].replace(code_dict)\n"
   ]
  },
  {
   "cell_type": "code",
   "execution_count": 7,
   "metadata": {},
   "outputs": [
    {
     "data": {
      "text/html": [
       "<div>\n",
       "<style scoped>\n",
       "    .dataframe tbody tr th:only-of-type {\n",
       "        vertical-align: middle;\n",
       "    }\n",
       "\n",
       "    .dataframe tbody tr th {\n",
       "        vertical-align: top;\n",
       "    }\n",
       "\n",
       "    .dataframe thead th {\n",
       "        text-align: right;\n",
       "    }\n",
       "</style>\n",
       "<table border=\"1\" class=\"dataframe\">\n",
       "  <thead>\n",
       "    <tr style=\"text-align: right;\">\n",
       "      <th></th>\n",
       "      <th>new_user_id</th>\n",
       "      <th>性别_0</th>\n",
       "      <th>性别_1</th>\n",
       "      <th>性别_2</th>\n",
       "      <th>职业_0</th>\n",
       "      <th>职业_1</th>\n",
       "      <th>职业_2</th>\n",
       "      <th>职业_3</th>\n",
       "      <th>职业_4</th>\n",
       "      <th>教育程度_0</th>\n",
       "      <th>...</th>\n",
       "      <th>婚姻状态_1</th>\n",
       "      <th>婚姻状态_2</th>\n",
       "      <th>婚姻状态_3</th>\n",
       "      <th>婚姻状态_4</th>\n",
       "      <th>婚姻状态_5</th>\n",
       "      <th>户口类型_0</th>\n",
       "      <th>户口类型_1</th>\n",
       "      <th>户口类型_2</th>\n",
       "      <th>户口类型_3</th>\n",
       "      <th>户口类型_4</th>\n",
       "    </tr>\n",
       "  </thead>\n",
       "  <tbody>\n",
       "    <tr>\n",
       "      <th>0</th>\n",
       "      <td>7259fe272934e0dc348092c37544a445</td>\n",
       "      <td>1</td>\n",
       "      <td>0</td>\n",
       "      <td>0</td>\n",
       "      <td>1</td>\n",
       "      <td>0</td>\n",
       "      <td>0</td>\n",
       "      <td>0</td>\n",
       "      <td>0</td>\n",
       "      <td>1</td>\n",
       "      <td>...</td>\n",
       "      <td>0</td>\n",
       "      <td>0</td>\n",
       "      <td>0</td>\n",
       "      <td>0</td>\n",
       "      <td>0</td>\n",
       "      <td>1</td>\n",
       "      <td>0</td>\n",
       "      <td>0</td>\n",
       "      <td>0</td>\n",
       "      <td>0</td>\n",
       "    </tr>\n",
       "    <tr>\n",
       "      <th>1</th>\n",
       "      <td>0c87f6b1f7e0350a35841ba34df9d26a</td>\n",
       "      <td>0</td>\n",
       "      <td>1</td>\n",
       "      <td>0</td>\n",
       "      <td>1</td>\n",
       "      <td>0</td>\n",
       "      <td>0</td>\n",
       "      <td>0</td>\n",
       "      <td>0</td>\n",
       "      <td>1</td>\n",
       "      <td>...</td>\n",
       "      <td>1</td>\n",
       "      <td>0</td>\n",
       "      <td>0</td>\n",
       "      <td>0</td>\n",
       "      <td>0</td>\n",
       "      <td>1</td>\n",
       "      <td>0</td>\n",
       "      <td>0</td>\n",
       "      <td>0</td>\n",
       "      <td>0</td>\n",
       "    </tr>\n",
       "    <tr>\n",
       "      <th>2</th>\n",
       "      <td>74c53a62f15cc039864aefc41170f81b</td>\n",
       "      <td>0</td>\n",
       "      <td>1</td>\n",
       "      <td>0</td>\n",
       "      <td>1</td>\n",
       "      <td>0</td>\n",
       "      <td>0</td>\n",
       "      <td>0</td>\n",
       "      <td>0</td>\n",
       "      <td>0</td>\n",
       "      <td>...</td>\n",
       "      <td>1</td>\n",
       "      <td>0</td>\n",
       "      <td>0</td>\n",
       "      <td>0</td>\n",
       "      <td>0</td>\n",
       "      <td>0</td>\n",
       "      <td>1</td>\n",
       "      <td>0</td>\n",
       "      <td>0</td>\n",
       "      <td>0</td>\n",
       "    </tr>\n",
       "    <tr>\n",
       "      <th>3</th>\n",
       "      <td>211f56f356fa6ecc6334bb73e52c7b16</td>\n",
       "      <td>0</td>\n",
       "      <td>1</td>\n",
       "      <td>0</td>\n",
       "      <td>0</td>\n",
       "      <td>1</td>\n",
       "      <td>0</td>\n",
       "      <td>0</td>\n",
       "      <td>0</td>\n",
       "      <td>0</td>\n",
       "      <td>...</td>\n",
       "      <td>1</td>\n",
       "      <td>0</td>\n",
       "      <td>0</td>\n",
       "      <td>0</td>\n",
       "      <td>0</td>\n",
       "      <td>0</td>\n",
       "      <td>0</td>\n",
       "      <td>1</td>\n",
       "      <td>0</td>\n",
       "      <td>0</td>\n",
       "    </tr>\n",
       "    <tr>\n",
       "      <th>4</th>\n",
       "      <td>07b0d9ac7924424894141b2fecfa0ee0</td>\n",
       "      <td>0</td>\n",
       "      <td>1</td>\n",
       "      <td>0</td>\n",
       "      <td>1</td>\n",
       "      <td>0</td>\n",
       "      <td>0</td>\n",
       "      <td>0</td>\n",
       "      <td>0</td>\n",
       "      <td>1</td>\n",
       "      <td>...</td>\n",
       "      <td>0</td>\n",
       "      <td>1</td>\n",
       "      <td>0</td>\n",
       "      <td>0</td>\n",
       "      <td>0</td>\n",
       "      <td>1</td>\n",
       "      <td>0</td>\n",
       "      <td>0</td>\n",
       "      <td>0</td>\n",
       "      <td>0</td>\n",
       "    </tr>\n",
       "  </tbody>\n",
       "</table>\n",
       "<p>5 rows × 25 columns</p>\n",
       "</div>"
      ],
      "text/plain": [
       "                        new_user_id  性别_0  性别_1  性别_2  职业_0  职业_1  职业_2  职业_3  \\\n",
       "0  7259fe272934e0dc348092c37544a445     1     0     0     1     0     0     0   \n",
       "1  0c87f6b1f7e0350a35841ba34df9d26a     0     1     0     1     0     0     0   \n",
       "2  74c53a62f15cc039864aefc41170f81b     0     1     0     1     0     0     0   \n",
       "3  211f56f356fa6ecc6334bb73e52c7b16     0     1     0     0     1     0     0   \n",
       "4  07b0d9ac7924424894141b2fecfa0ee0     0     1     0     1     0     0     0   \n",
       "\n",
       "   职业_4  教育程度_0  ...  婚姻状态_1  婚姻状态_2  婚姻状态_3  婚姻状态_4  婚姻状态_5  户口类型_0  户口类型_1  \\\n",
       "0     0       1  ...       0       0       0       0       0       1       0   \n",
       "1     0       1  ...       1       0       0       0       0       1       0   \n",
       "2     0       0  ...       1       0       0       0       0       0       1   \n",
       "3     0       0  ...       1       0       0       0       0       0       0   \n",
       "4     0       1  ...       0       1       0       0       0       1       0   \n",
       "\n",
       "   户口类型_2  户口类型_3  户口类型_4  \n",
       "0       0       0       0  \n",
       "1       0       0       0  \n",
       "2       0       0       0  \n",
       "3       1       0       0  \n",
       "4       0       0       0  \n",
       "\n",
       "[5 rows x 25 columns]"
      ]
     },
     "execution_count": 7,
     "metadata": {},
     "output_type": "execute_result"
    }
   ],
   "source": [
    "# One-Hot Encoding\n",
    "col_list=list(df_dict['用户信息'])\n",
    "col_list.remove('new_user_id')\n",
    "df_dict['用户信息'] = pd.get_dummies(df_dict['用户信息'], columns=col_list)\n",
    "df_dict['用户信息'].head(5)"
   ]
  },
  {
   "cell_type": "markdown",
   "metadata": {},
   "source": [
    "# 2.1 尝试单变量\n",
    "职业、教育程度、婚姻状态或户口类型"
   ]
  },
  {
   "cell_type": "code",
   "execution_count": 9,
   "metadata": {},
   "outputs": [],
   "source": [
    "# min-max标准化\n",
    "\n",
    "def mNormalization(dataframe, column):\n",
    "    single = pd.DataFrame(dataframe[column],columns=[column])\n",
    "    single = single.apply(lambda x: (x - np.min(x)) / (np.max(x) - np.min(x)))\n",
    "    dataframe[column] = single[column]\n",
    "    return dataframe\n",
    "\n",
    "df = pd.merge(df_dict['用户信息'], df_dict['违约记录'], on='new_user_id', how='left')\n",
    "df = mNormalization(df, '分数')\n",
    "# df['分数'].plot.hist()"
   ]
  },
  {
   "cell_type": "code",
   "execution_count": 87,
   "metadata": {},
   "outputs": [
    {
     "data": {
      "text/plain": [
       "<AxesSubplot:ylabel='Frequency'>"
      ]
     },
     "execution_count": 87,
     "metadata": {},
     "output_type": "execute_result"
    },
    {
     "data": {
      "image/png": "[encoded data removed]",
      "text/plain": [
       "<Figure size 432x288 with 1 Axes>"
      ]
     },
     "metadata": {
      "needs_background": "light"
     },
     "output_type": "display_data"
    }
   ],
   "source": [
    "# Z-score标准化\n",
    "\n",
    "def zNormalization(dataframe, column):\n",
    "    single = pd.DataFrame(dataframe[column],columns=[column])\n",
    "    single = single.apply(lambda x: (x - np.mean(x)) / np.std(x))\n",
    "    dataframe[column] = single[column]\n",
    "    return dataframe\n",
    "\n",
    "df = pd.merge(df_dict['用户信息'], df_dict['违约记录'], on='new_user_id', how='left')\n",
    "df = zNormalization(df, '分数')\n",
    "# df['分数'].plot.hist()"
   ]
  },
  {
   "cell_type": "code",
   "execution_count": 8,
   "metadata": {},
   "outputs": [
    {
     "data": {
      "text/html": [
       "<div>\n",
       "<style scoped>\n",
       "    .dataframe tbody tr th:only-of-type {\n",
       "        vertical-align: middle;\n",
       "    }\n",
       "\n",
       "    .dataframe tbody tr th {\n",
       "        vertical-align: top;\n",
       "    }\n",
       "\n",
       "    .dataframe thead th {\n",
       "        text-align: right;\n",
       "    }\n",
       "</style>\n",
       "<table border=\"1\" class=\"dataframe\">\n",
       "  <thead>\n",
       "    <tr style=\"text-align: right;\">\n",
       "      <th></th>\n",
       "      <th>new_user_id</th>\n",
       "      <th>性别</th>\n",
       "      <th>职业</th>\n",
       "      <th>教育程度</th>\n",
       "      <th>婚姻状态</th>\n",
       "      <th>户口类型</th>\n",
       "      <th>标签</th>\n",
       "      <th>分数</th>\n",
       "    </tr>\n",
       "  </thead>\n",
       "  <tbody>\n",
       "    <tr>\n",
       "      <th>0</th>\n",
       "      <td>7259fe272934e0dc348092c37544a445</td>\n",
       "      <td>0</td>\n",
       "      <td>0</td>\n",
       "      <td>0</td>\n",
       "      <td>0</td>\n",
       "      <td>0</td>\n",
       "      <td>0</td>\n",
       "      <td>70.260853</td>\n",
       "    </tr>\n",
       "    <tr>\n",
       "      <th>1</th>\n",
       "      <td>0c87f6b1f7e0350a35841ba34df9d26a</td>\n",
       "      <td>1</td>\n",
       "      <td>0</td>\n",
       "      <td>0</td>\n",
       "      <td>1</td>\n",
       "      <td>0</td>\n",
       "      <td>1</td>\n",
       "      <td>22.963381</td>\n",
       "    </tr>\n",
       "    <tr>\n",
       "      <th>2</th>\n",
       "      <td>74c53a62f15cc039864aefc41170f81b</td>\n",
       "      <td>1</td>\n",
       "      <td>0</td>\n",
       "      <td>1</td>\n",
       "      <td>1</td>\n",
       "      <td>1</td>\n",
       "      <td>1</td>\n",
       "      <td>33.866533</td>\n",
       "    </tr>\n",
       "    <tr>\n",
       "      <th>3</th>\n",
       "      <td>211f56f356fa6ecc6334bb73e52c7b16</td>\n",
       "      <td>1</td>\n",
       "      <td>1</td>\n",
       "      <td>2</td>\n",
       "      <td>1</td>\n",
       "      <td>2</td>\n",
       "      <td>0</td>\n",
       "      <td>80.170224</td>\n",
       "    </tr>\n",
       "    <tr>\n",
       "      <th>4</th>\n",
       "      <td>07b0d9ac7924424894141b2fecfa0ee0</td>\n",
       "      <td>1</td>\n",
       "      <td>0</td>\n",
       "      <td>0</td>\n",
       "      <td>2</td>\n",
       "      <td>0</td>\n",
       "      <td>0</td>\n",
       "      <td>73.980588</td>\n",
       "    </tr>\n",
       "  </tbody>\n",
       "</table>\n",
       "</div>"
      ],
      "text/plain": [
       "                        new_user_id  性别  职业  教育程度  婚姻状态  户口类型  标签         分数\n",
       "0  7259fe272934e0dc348092c37544a445   0   0     0     0     0   0  70.260853\n",
       "1  0c87f6b1f7e0350a35841ba34df9d26a   1   0     0     1     0   1  22.963381\n",
       "2  74c53a62f15cc039864aefc41170f81b   1   0     1     1     1   1  33.866533\n",
       "3  211f56f356fa6ecc6334bb73e52c7b16   1   1     2     1     2   0  80.170224\n",
       "4  07b0d9ac7924424894141b2fecfa0ee0   1   0     0     2     0   0  73.980588"
      ]
     },
     "execution_count": 8,
     "metadata": {},
     "output_type": "execute_result"
    }
   ],
   "source": [
    "# Continue without normalization\n",
    "df = pd.merge(df_dict['用户信息'], df_dict['违约记录'], on='new_user_id', how='left')\n",
    "df.head()"
   ]
  },
  {
   "cell_type": "code",
   "execution_count": 18,
   "metadata": {},
   "outputs": [
    {
     "name": "stdout",
     "output_type": "stream",
     "text": [
      "回归任务：分数\n",
      "单变量：职业\n",
      "均方差：189.7116\n",
      "\n",
      "回归任务：分数\n",
      "单变量：教育程度\n",
      "均方差：206.1938\n",
      "\n",
      "回归任务：分数\n",
      "单变量：婚姻状态\n",
      "均方差：209.2715\n",
      "\n",
      "回归任务：分数\n",
      "单变量：户口类型\n",
      "均方差：181.1383\n",
      "\n"
     ]
    }
   ],
   "source": [
    "def SingleVarReg(dataframe, depVar, indVar, testsize=0.2):\n",
    "    X_train, X_test, Y_train, Y_test = train_test_split(dataframe[[indVar]], dataframe[[depVar]], test_size=testsize)\n",
    "    model = LinearRegression()\n",
    "    model.fit(X_train, Y_train)\n",
    "    Y_predict_value = model.predict(X_test)\n",
    "    \n",
    "    mse = mean_squared_error(Y_test, Y_predict_value)\n",
    "    print(\"回归任务：%s\\n单变量：%s\\n均方差：%.4f\\n\" %(depVar, indVar, mse))\n",
    "\n",
    "features = ['职业','教育程度','婚姻状态','户口类型']\n",
    "# df = mNormalization(df, '职业')\n",
    "for feature in features:\n",
    "    SingleVarReg(df, '分数', feature)"
   ]
  },
  {
   "cell_type": "code",
   "execution_count": 26,
   "metadata": {},
   "outputs": [
    {
     "name": "stderr",
     "output_type": "stream",
     "text": [
      "C:\\Users\\bryan\\AppData\\Roaming\\Python\\Python38\\site-packages\\sklearn\\utils\\validation.py:985: DataConversionWarning: A column-vector y was passed when a 1d array was expected. Please change the shape of y to (n_samples, ), for example using ravel().\n",
      "  y = column_or_1d(y, warn=True)\n"
     ]
    },
    {
     "name": "stdout",
     "output_type": "stream",
     "text": [
      "职业\n"
     ]
    },
    {
     "data": {
      "image/png": "[encoded data removed]",
      "text/plain": [
       "<Figure size 432x288 with 2 Axes>"
      ]
     },
     "metadata": {
      "needs_background": "light"
     },
     "output_type": "display_data"
    },
    {
     "data": {
      "image/png": "[encoded data removed]",
      "text/plain": [
       "<Figure size 432x288 with 1 Axes>"
      ]
     },
     "metadata": {
      "needs_background": "light"
     },
     "output_type": "display_data"
    },
    {
     "name": "stderr",
     "output_type": "stream",
     "text": [
      "C:\\Users\\bryan\\AppData\\Roaming\\Python\\Python38\\site-packages\\sklearn\\utils\\validation.py:985: DataConversionWarning: A column-vector y was passed when a 1d array was expected. Please change the shape of y to (n_samples, ), for example using ravel().\n",
      "  y = column_or_1d(y, warn=True)\n"
     ]
    },
    {
     "name": "stdout",
     "output_type": "stream",
     "text": [
      "教育程度\n"
     ]
    },
    {
     "data": {
      "image/png": "[encoded data removed]",
      "text/plain": [
       "<Figure size 432x288 with 2 Axes>"
      ]
     },
     "metadata": {
      "needs_background": "light"
     },
     "output_type": "display_data"
    },
    {
     "data": {
      "image/png": "[encoded data removed]",
      "text/plain": [
       "<Figure size 432x288 with 1 Axes>"
      ]
     },
     "metadata": {
      "needs_background": "light"
     },
     "output_type": "display_data"
    },
    {
     "name": "stderr",
     "output_type": "stream",
     "text": [
      "C:\\Users\\bryan\\AppData\\Roaming\\Python\\Python38\\site-packages\\sklearn\\utils\\validation.py:985: DataConversionWarning: A column-vector y was passed when a 1d array was expected. Please change the shape of y to (n_samples, ), for example using ravel().\n",
      "  y = column_or_1d(y, warn=True)\n"
     ]
    },
    {
     "name": "stdout",
     "output_type": "stream",
     "text": [
      "婚姻状态\n"
     ]
    },
    {
     "data": {
      "image/png": "[encoded data removed]",
      "text/plain": [
       "<Figure size 432x288 with 2 Axes>"
      ]
     },
     "metadata": {
      "needs_background": "light"
     },
     "output_type": "display_data"
    },
    {
     "data": {
      "image/png": "[encoded data removed]",
      "text/plain": [
       "<Figure size 432x288 with 1 Axes>"
      ]
     },
     "metadata": {
      "needs_background": "light"
     },
     "output_type": "display_data"
    },
    {
     "name": "stderr",
     "output_type": "stream",
     "text": [
      "C:\\Users\\bryan\\AppData\\Roaming\\Python\\Python38\\site-packages\\sklearn\\utils\\validation.py:985: DataConversionWarning: A column-vector y was passed when a 1d array was expected. Please change the shape of y to (n_samples, ), for example using ravel().\n",
      "  y = column_or_1d(y, warn=True)\n"
     ]
    },
    {
     "name": "stdout",
     "output_type": "stream",
     "text": [
      "户口类型\n"
     ]
    },
    {
     "data": {
      "image/png": "[encoded data removed]",
      "text/plain": [
       "<Figure size 432x288 with 2 Axes>"
      ]
     },
     "metadata": {
      "needs_background": "light"
     },
     "output_type": "display_data"
    },
    {
     "data": {
      "image/png": "[encoded data removed]",
      "text/plain": [
       "<Figure size 432x288 with 1 Axes>"
      ]
     },
     "metadata": {
      "needs_background": "light"
     },
     "output_type": "display_data"
    }
   ],
   "source": [
    "from sklearn.metrics import confusion_matrix\n",
    "\n",
    "def SingleVarClf(dataframe, depVar, indVar, testsize=0.2):\n",
    "    X_train, X_test, Y_train, Y_test = train_test_split(df[[indVar]], df[[depVar]], test_size=testsize)\n",
    "    model = LogisticRegression()\n",
    "    model.fit(X_train, Y_train)\n",
    "    Y_predict_value = model.predict_proba(X_test)[:, 1]  # 各个测试样本 softmax ，用于计算 roc\n",
    "    Y_predict_label = model.predict(X_test)  # 各个测试样本预测出的标签\n",
    "\n",
    "    # Plot confusion matrix\n",
    "    confusion = confusion_matrix(Y_test, Y_predict_label)\n",
    "    # print(confusion)\n",
    "\n",
    "    print(indVar)\n",
    "    # Generate ticks\n",
    "    classes = list(set(df[depVar]))\n",
    "    classes.sort()\n",
    "    # matplotlib.rcParams['font.sans-serif'] = ['KaiTi']\n",
    "    plt.title('Test Set Confusion Matrix')\n",
    "    plt.imshow(confusion, cmap=plt.cm.Blues)\n",
    "    plt.colorbar()\n",
    "    plt.xticks(range(len(confusion)), classes)\n",
    "    plt.yticks(range(len(confusion)), classes)\n",
    "    plt.xlabel('Predict label')\n",
    "    plt.ylabel('True label')\n",
    "    for y_index in range(len(confusion)):\n",
    "        for x_index in range(len(confusion[y_index])):\n",
    "            plt.text(x_index, y_index, confusion[y_index][x_index])\n",
    "    plt.show()\n",
    "\n",
    "    # Plot ROC curve\n",
    "    fpr, tpr, thresholds = roc_curve(Y_test, Y_predict_value)\n",
    "    roc_auc = auc(fpr, tpr)\n",
    "    plt.title('AUC:%.3f, f1 score:%.3f' %(roc_auc, f1_score(Y_test, Y_predict_label)))\n",
    "    plt.xlabel('False Positive Rate')\n",
    "    plt.ylabel('True Positive Rate')\n",
    "    plt.plot([0, 1], [0, 1], 'k--')\n",
    "    plt.plot(fpr, tpr)\n",
    "    plt.show()\n",
    "\n",
    "features = ['职业','教育程度','婚姻状态','户口类型']\n",
    "for feature in features:\n",
    "    SingleVarClf(df, '标签', feature)"
   ]
  },
  {
   "cell_type": "code",
   "execution_count": null,
   "metadata": {},
   "outputs": [],
   "source": []
  }
 ],
 "metadata": {
  "interpreter": {
   "hash": "32291435e3eed55719e1b9c26a38bc7bade4aa4d43f2521a790dd3f948015c4f"
  },
  "kernelspec": {
   "display_name": "Python 3 (ipykernel)",
   "language": "python",
   "name": "python3"
  },
  "language_info": {
   "codemirror_mode": {
    "name": "ipython",
    "version": 3
   },
   "file_extension": ".py",
   "mimetype": "text/x-python",
   "name": "python",
   "nbconvert_exporter": "python",
   "pygments_lexer": "ipython3",
   "version": "3.8.12"
  }
 },
 "nbformat": 4,
 "nbformat_minor": 2
}
